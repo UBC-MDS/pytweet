{
 "cells": [
  {
   "cell_type": "code",
   "execution_count": 8,
   "id": "exterior-warrior",
   "metadata": {},
   "outputs": [],
   "source": [
    "import tweepy\n",
    "import os\n",
    "import pandas as pd\n",
    "\n",
    "def get_tweets(handle, n_tweets=-1, include_replies=False, verbose=True):\n",
    "    \"\"\"\n",
    "    Retreives all tweets of a user given their Twitter handle\n",
    "    (i.e. @elonmusk) through the Twitter API.\n",
    "\n",
    "    Parts of the function references Brown University CSCI0931's\n",
    "    lecture notes: https://cs.brown.edu/courses/csci0931/2015-fall/3-synthesis/LEC3-5.pdf\n",
    "\n",
    "    Parameters:\n",
    "    -----------\n",
    "    handle : string\n",
    "        The Twitter handle of the user, or aka the username.\n",
    "    n_tweets : number\n",
    "        The total number of tweets you want to retreive from the user.\n",
    "        By default, n_tweets=-1 means retrieving all tweets.\n",
    "    include_replies : boolean\n",
    "        Whether or not the to downloaded the users replies\n",
    "        in addition to original tweets/retweets.\n",
    "    verbose : boolean\n",
    "        Whether to print out progress during the retrieval.\n",
    "\n",
    "    Returns:\n",
    "    --------\n",
    "    tweets : dataframe\n",
    "        A dataframe of the user's tweets, and the sent times.\n",
    "    \"\"\"\n",
    "\n",
    "    # check argument validity\n",
    "    if not(isinstance(handle, str)):\n",
    "        raise Exception('Invalid argument type: handle must be a string.')\n",
    "    elif not(isinstance(n_tweets, int) and n_tweets > 0):\n",
    "        raise Exception('Invalid argument: n_tweets must be a number greater than 0!')\n",
    "    elif not(isinstance(include_replies, bool)):\n",
    "        raise Exception('Invalid argument type: include_replies must be boolean.')\n",
    "    elif not(isinstance(verbose, bool)):\n",
    "        raise Exception('Invalid argument type: verbose must be boolean.')\n",
    "        \n",
    "    # Twitter API credentials\n",
    "    try:\n",
    "        consumer_key = os.environ.get('TWITTER_CONS_KEY')\n",
    "        consumer_secret = os.environ.get('TWITTER_CONS_SEC')\n",
    "        access_key = os.environ.get('TWITTER_ACCS_KEY')\n",
    "        access_secret = os.environ.get('TWITTER_ACCS_SEC')\n",
    "    except KeyError:\n",
    "        raise Exception('Need authentication tokens! Please make sure you have those as environment variables.')\n",
    "\n",
    "    auth = tweepy.OAuthHandler(consumer_key, consumer_secret)\n",
    "    auth.set_access_token(access_key, access_secret)\n",
    "    api = tweepy.API(auth)\n",
    "\n",
    "    # get first batch of tweets\n",
    "    tweets = []\n",
    "    latest = api.user_timeline(screen_name=handle,\n",
    "                               exclude_replies=not(include_replies),\n",
    "                               count=200)  # max count per request is 200\n",
    "    tweets.extend(latest)\n",
    "\n",
    "    # request recursively to get all tweets/n_tweets\n",
    "    oldest = latest[-1].id\n",
    "    while(len(latest) > 0 and len(tweets) < n_tweets):\n",
    "        latest = api.user_timeline(screen_name=handle, \n",
    "                                   exclude_replies=not(include_replies), \n",
    "                                   count=200, max_id=oldest)\n",
    "        tweets.extend(latest)\n",
    "        oldest = latest[-1].id\n",
    "\n",
    "        if verbose:\n",
    "            print(f\"{len(tweets)} tweets downloaded\")\n",
    "\n",
    "    # format output dataframe\n",
    "    output = pd.DataFrame([[tweet.created_at, tweet.text] for tweet in tweets],\n",
    "                          columns=['time', 'tweet'])\n",
    "    if n_tweets != -1:\n",
    "        output = output[:n_tweets]\n",
    "        \n",
    "    return output\n"
   ]
  },
  {
   "cell_type": "code",
   "execution_count": 20,
   "id": "speaking-stability",
   "metadata": {},
   "outputs": [
    {
     "ename": "TypeError",
     "evalue": "'<' not supported between instances of 'int' and 'str'",
     "output_type": "error",
     "traceback": [
      "\u001b[0;31m---------------------------------------------------------------------------\u001b[0m",
      "\u001b[0;31mTypeError\u001b[0m                                 Traceback (most recent call last)",
      "\u001b[0;32m<ipython-input-20-9340299e3d2d>\u001b[0m in \u001b[0;36m<module>\u001b[0;34m\u001b[0m\n\u001b[0;32m----> 1\u001b[0;31m \u001b[0ma\u001b[0m \u001b[0;34m=\u001b[0m \u001b[0mget_tweets\u001b[0m\u001b[0;34m(\u001b[0m\u001b[0;34m'@ShawnMendes'\u001b[0m\u001b[0;34m,\u001b[0m \u001b[0mn_tweets\u001b[0m\u001b[0;34m=\u001b[0m\u001b[0;34m'ac'\u001b[0m\u001b[0;34m)\u001b[0m\u001b[0;34m\u001b[0m\u001b[0;34m\u001b[0m\u001b[0m\n\u001b[0m",
      "\u001b[0;32m<ipython-input-8-0c22b21b804c>\u001b[0m in \u001b[0;36mget_tweets\u001b[0;34m(handle, n_tweets, include_replies, verbose)\u001b[0m\n\u001b[1;32m     52\u001b[0m     \u001b[0;31m# request recursively to get all tweets/n_tweets\u001b[0m\u001b[0;34m\u001b[0m\u001b[0;34m\u001b[0m\u001b[0;34m\u001b[0m\u001b[0m\n\u001b[1;32m     53\u001b[0m     \u001b[0moldest\u001b[0m \u001b[0;34m=\u001b[0m \u001b[0mlatest\u001b[0m\u001b[0;34m[\u001b[0m\u001b[0;34m-\u001b[0m\u001b[0;36m1\u001b[0m\u001b[0;34m]\u001b[0m\u001b[0;34m.\u001b[0m\u001b[0mid\u001b[0m\u001b[0;34m\u001b[0m\u001b[0;34m\u001b[0m\u001b[0m\n\u001b[0;32m---> 54\u001b[0;31m     \u001b[0;32mwhile\u001b[0m\u001b[0;34m(\u001b[0m\u001b[0mlen\u001b[0m\u001b[0;34m(\u001b[0m\u001b[0mlatest\u001b[0m\u001b[0;34m)\u001b[0m \u001b[0;34m>\u001b[0m \u001b[0;36m0\u001b[0m \u001b[0;32mand\u001b[0m \u001b[0mlen\u001b[0m\u001b[0;34m(\u001b[0m\u001b[0mtweets\u001b[0m\u001b[0;34m)\u001b[0m \u001b[0;34m<\u001b[0m \u001b[0mn_tweets\u001b[0m\u001b[0;34m)\u001b[0m\u001b[0;34m:\u001b[0m\u001b[0;34m\u001b[0m\u001b[0;34m\u001b[0m\u001b[0m\n\u001b[0m\u001b[1;32m     55\u001b[0m         latest = api.user_timeline(screen_name=handle, \n\u001b[1;32m     56\u001b[0m                                    \u001b[0mexclude_replies\u001b[0m\u001b[0;34m=\u001b[0m\u001b[0;32mnot\u001b[0m\u001b[0;34m(\u001b[0m\u001b[0minclude_replies\u001b[0m\u001b[0;34m)\u001b[0m\u001b[0;34m,\u001b[0m\u001b[0;34m\u001b[0m\u001b[0;34m\u001b[0m\u001b[0m\n",
      "\u001b[0;31mTypeError\u001b[0m: '<' not supported between instances of 'int' and 'str'"
     ]
    }
   ],
   "source": [
    "a = get_tweets('@ShawnMendes', n_tweets='ac')"
   ]
  },
  {
   "cell_type": "code",
   "execution_count": 19,
   "id": "reserved-finland",
   "metadata": {},
   "outputs": [
    {
     "data": {
      "text/html": [
       "<div>\n",
       "<style scoped>\n",
       "    .dataframe tbody tr th:only-of-type {\n",
       "        vertical-align: middle;\n",
       "    }\n",
       "\n",
       "    .dataframe tbody tr th {\n",
       "        vertical-align: top;\n",
       "    }\n",
       "\n",
       "    .dataframe thead th {\n",
       "        text-align: right;\n",
       "    }\n",
       "</style>\n",
       "<table border=\"1\" class=\"dataframe\">\n",
       "  <thead>\n",
       "    <tr style=\"text-align: right;\">\n",
       "      <th></th>\n",
       "      <th>time</th>\n",
       "      <th>tweet</th>\n",
       "    </tr>\n",
       "  </thead>\n",
       "  <tbody>\n",
       "    <tr>\n",
       "      <th>0</th>\n",
       "      <td>2021-02-26 19:46:42</td>\n",
       "      <td>RT @shawnfoundation: 15 minutes until Shawn’s ...</td>\n",
       "    </tr>\n",
       "    <tr>\n",
       "      <th>1</th>\n",
       "      <td>2021-02-25 15:04:02</td>\n",
       "      <td>Thanks @genies for partnering with @shawnfound...</td>\n",
       "    </tr>\n",
       "    <tr>\n",
       "      <th>2</th>\n",
       "      <td>2021-02-23 23:23:52</td>\n",
       "      <td>RT @shawnfoundation: We’ve compiled some #Blac...</td>\n",
       "    </tr>\n",
       "    <tr>\n",
       "      <th>3</th>\n",
       "      <td>2021-02-14 23:16:47</td>\n",
       "      <td>Happy Valentine’s 🖤🖤 https://t.co/5XNT6H5F9m</td>\n",
       "    </tr>\n",
       "    <tr>\n",
       "      <th>4</th>\n",
       "      <td>2021-02-11 23:04:22</td>\n",
       "      <td>RT @shawnfoundation: Introducing the first 5 W...</td>\n",
       "    </tr>\n",
       "    <tr>\n",
       "      <th>5</th>\n",
       "      <td>2021-02-10 00:57:03</td>\n",
       "      <td>Headband coffee mug https://t.co/BWj0f8kC8d</td>\n",
       "    </tr>\n",
       "    <tr>\n",
       "      <th>6</th>\n",
       "      <td>2021-02-07 20:22:49</td>\n",
       "      <td>RT @shawnfoundation: Only 4 days left to apply...</td>\n",
       "    </tr>\n",
       "    <tr>\n",
       "      <th>7</th>\n",
       "      <td>2021-02-02 17:38:47</td>\n",
       "      <td>LOL I was laughing so hard at the photo. Then ...</td>\n",
       "    </tr>\n",
       "    <tr>\n",
       "      <th>8</th>\n",
       "      <td>2021-01-28 20:54:42</td>\n",
       "      <td>🤣❤️❤️ https://t.co/WxdYGFSn9n</td>\n",
       "    </tr>\n",
       "    <tr>\n",
       "      <th>9</th>\n",
       "      <td>2021-01-28 18:59:04</td>\n",
       "      <td>Check in with yourself and your loved ones. Me...</td>\n",
       "    </tr>\n",
       "    <tr>\n",
       "      <th>10</th>\n",
       "      <td>2021-01-25 19:25:35</td>\n",
       "      <td>RT @ShawnAccess: Shawn’s episode of Time to Wa...</td>\n",
       "    </tr>\n",
       "    <tr>\n",
       "      <th>11</th>\n",
       "      <td>2021-01-22 17:20:30</td>\n",
       "      <td>RT @shawnfoundation: We’re delighted to announ...</td>\n",
       "    </tr>\n",
       "    <tr>\n",
       "      <th>12</th>\n",
       "      <td>2021-01-14 23:25:35</td>\n",
       "      <td>I have my own bowl !! @shawnfoundation &amp;amp; I...</td>\n",
       "    </tr>\n",
       "    <tr>\n",
       "      <th>13</th>\n",
       "      <td>2021-01-05 00:21:53</td>\n",
       "      <td>RT @MichelleObama: The last day to vote in the...</td>\n",
       "    </tr>\n",
       "    <tr>\n",
       "      <th>14</th>\n",
       "      <td>2020-12-25 21:27:57</td>\n",
       "      <td>Merry Christmas ✨✨✨❤️ sending so much love !!</td>\n",
       "    </tr>\n",
       "    <tr>\n",
       "      <th>15</th>\n",
       "      <td>2020-12-18 19:39:12</td>\n",
       "      <td>RT @pandoramusic: Ever #Wonder what's going th...</td>\n",
       "    </tr>\n",
       "    <tr>\n",
       "      <th>16</th>\n",
       "      <td>2020-12-15 23:36:38</td>\n",
       "      <td>RT @shawnfoundation: We’re partnering with @Go...</td>\n",
       "    </tr>\n",
       "    <tr>\n",
       "      <th>17</th>\n",
       "      <td>2020-12-15 23:28:24</td>\n",
       "      <td>The @shawnfoundation &amp;amp; I are partnering wi...</td>\n",
       "    </tr>\n",
       "    <tr>\n",
       "      <th>18</th>\n",
       "      <td>2020-12-14 20:01:05</td>\n",
       "      <td>Thank you so much for loving and supporting Wo...</td>\n",
       "    </tr>\n",
       "    <tr>\n",
       "      <th>19</th>\n",
       "      <td>2020-12-14 19:56:54</td>\n",
       "      <td>RT @andrewgertler: Congrats @shawnmendes! Not ...</td>\n",
       "    </tr>\n",
       "  </tbody>\n",
       "</table>\n",
       "</div>"
      ],
      "text/plain": [
       "                  time                                              tweet\n",
       "0  2021-02-26 19:46:42  RT @shawnfoundation: 15 minutes until Shawn’s ...\n",
       "1  2021-02-25 15:04:02  Thanks @genies for partnering with @shawnfound...\n",
       "2  2021-02-23 23:23:52  RT @shawnfoundation: We’ve compiled some #Blac...\n",
       "3  2021-02-14 23:16:47       Happy Valentine’s 🖤🖤 https://t.co/5XNT6H5F9m\n",
       "4  2021-02-11 23:04:22  RT @shawnfoundation: Introducing the first 5 W...\n",
       "5  2021-02-10 00:57:03        Headband coffee mug https://t.co/BWj0f8kC8d\n",
       "6  2021-02-07 20:22:49  RT @shawnfoundation: Only 4 days left to apply...\n",
       "7  2021-02-02 17:38:47  LOL I was laughing so hard at the photo. Then ...\n",
       "8  2021-01-28 20:54:42                      🤣❤️❤️ https://t.co/WxdYGFSn9n\n",
       "9  2021-01-28 18:59:04  Check in with yourself and your loved ones. Me...\n",
       "10 2021-01-25 19:25:35  RT @ShawnAccess: Shawn’s episode of Time to Wa...\n",
       "11 2021-01-22 17:20:30  RT @shawnfoundation: We’re delighted to announ...\n",
       "12 2021-01-14 23:25:35  I have my own bowl !! @shawnfoundation &amp; I...\n",
       "13 2021-01-05 00:21:53  RT @MichelleObama: The last day to vote in the...\n",
       "14 2020-12-25 21:27:57      Merry Christmas ✨✨✨❤️ sending so much love !!\n",
       "15 2020-12-18 19:39:12  RT @pandoramusic: Ever #Wonder what's going th...\n",
       "16 2020-12-15 23:36:38  RT @shawnfoundation: We’re partnering with @Go...\n",
       "17 2020-12-15 23:28:24  The @shawnfoundation &amp; I are partnering wi...\n",
       "18 2020-12-14 20:01:05  Thank you so much for loving and supporting Wo...\n",
       "19 2020-12-14 19:56:54  RT @andrewgertler: Congrats @shawnmendes! Not ..."
      ]
     },
     "execution_count": 19,
     "metadata": {},
     "output_type": "execute_result"
    }
   ],
   "source": [
    "a"
   ]
  },
  {
   "cell_type": "code",
   "execution_count": 4,
   "id": "advanced-mobile",
   "metadata": {},
   "outputs": [
    {
     "data": {
      "text/plain": [
       "'rHRh8s2Hz88liZ24zLcrAsHM1'"
      ]
     },
     "execution_count": 4,
     "metadata": {},
     "output_type": "execute_result"
    }
   ],
   "source": [
    "consumer_key"
   ]
  },
  {
   "cell_type": "code",
   "execution_count": 5,
   "id": "happy-attack",
   "metadata": {},
   "outputs": [
    {
     "data": {
      "text/plain": [
       "'lyImhGstvGfpMXDMybVgKvssDFOwzLascWqMxzu4KHW3qEAEuk'"
      ]
     },
     "execution_count": 5,
     "metadata": {},
     "output_type": "execute_result"
    }
   ],
   "source": [
    "consumer_secret"
   ]
  },
  {
   "cell_type": "code",
   "execution_count": 6,
   "id": "developed-label",
   "metadata": {},
   "outputs": [
    {
     "data": {
      "text/plain": [
       "'1365228567156510721-MXyBlg0GcWiA1Svnr0RQZpzp8S9Gqi'"
      ]
     },
     "execution_count": 6,
     "metadata": {},
     "output_type": "execute_result"
    }
   ],
   "source": [
    "access_key"
   ]
  },
  {
   "cell_type": "code",
   "execution_count": 7,
   "id": "emerging-chemical",
   "metadata": {},
   "outputs": [
    {
     "data": {
      "text/plain": [
       "'qB7fP40OlJHlp35m2vmYx2X4TMqZmn4vuhq34rp99WQRB'"
      ]
     },
     "execution_count": 7,
     "metadata": {},
     "output_type": "execute_result"
    }
   ],
   "source": [
    "access_secret"
   ]
  },
  {
   "cell_type": "code",
   "execution_count": 207,
   "id": "sought-regression",
   "metadata": {},
   "outputs": [
    {
     "data": {
      "text/plain": [
       "pandas.core.series.Series"
      ]
     },
     "execution_count": 207,
     "metadata": {},
     "output_type": "execute_result"
    }
   ],
   "source": [
    "type(a['time'])"
   ]
  },
  {
   "cell_type": "code",
   "execution_count": 223,
   "id": "legitimate-assist",
   "metadata": {},
   "outputs": [
    {
     "ename": "KeyError",
     "evalue": "'TWITTER_ACCS_KEY'",
     "output_type": "error",
     "traceback": [
      "\u001b[0;31m---------------------------------------------------------------------------\u001b[0m",
      "\u001b[0;31mKeyError\u001b[0m                                  Traceback (most recent call last)",
      "\u001b[0;32m<ipython-input-223-d399e5f748fe>\u001b[0m in \u001b[0;36m<module>\u001b[0;34m\u001b[0m\n\u001b[1;32m      1\u001b[0m \u001b[0;32mimport\u001b[0m \u001b[0mos\u001b[0m\u001b[0;34m\u001b[0m\u001b[0;34m\u001b[0m\u001b[0m\n\u001b[0;32m----> 2\u001b[0;31m \u001b[0max\u001b[0m \u001b[0;34m=\u001b[0m \u001b[0mos\u001b[0m\u001b[0;34m.\u001b[0m\u001b[0menviron\u001b[0m\u001b[0;34m[\u001b[0m\u001b[0;34m\"TWITTER_ACCS_KEY\"\u001b[0m\u001b[0;34m]\u001b[0m\u001b[0;34m\u001b[0m\u001b[0;34m\u001b[0m\u001b[0m\n\u001b[0m",
      "\u001b[0;32m~/opt/miniconda3/lib/python3.8/os.py\u001b[0m in \u001b[0;36m__getitem__\u001b[0;34m(self, key)\u001b[0m\n\u001b[1;32m    673\u001b[0m         \u001b[0;32mexcept\u001b[0m \u001b[0mKeyError\u001b[0m\u001b[0;34m:\u001b[0m\u001b[0;34m\u001b[0m\u001b[0;34m\u001b[0m\u001b[0m\n\u001b[1;32m    674\u001b[0m             \u001b[0;31m# raise KeyError with the original key value\u001b[0m\u001b[0;34m\u001b[0m\u001b[0;34m\u001b[0m\u001b[0;34m\u001b[0m\u001b[0m\n\u001b[0;32m--> 675\u001b[0;31m             \u001b[0;32mraise\u001b[0m \u001b[0mKeyError\u001b[0m\u001b[0;34m(\u001b[0m\u001b[0mkey\u001b[0m\u001b[0;34m)\u001b[0m \u001b[0;32mfrom\u001b[0m \u001b[0;32mNone\u001b[0m\u001b[0;34m\u001b[0m\u001b[0;34m\u001b[0m\u001b[0m\n\u001b[0m\u001b[1;32m    676\u001b[0m         \u001b[0;32mreturn\u001b[0m \u001b[0mself\u001b[0m\u001b[0;34m.\u001b[0m\u001b[0mdecodevalue\u001b[0m\u001b[0;34m(\u001b[0m\u001b[0mvalue\u001b[0m\u001b[0;34m)\u001b[0m\u001b[0;34m\u001b[0m\u001b[0;34m\u001b[0m\u001b[0m\n\u001b[1;32m    677\u001b[0m \u001b[0;34m\u001b[0m\u001b[0m\n",
      "\u001b[0;31mKeyError\u001b[0m: 'TWITTER_ACCS_KEY'"
     ]
    }
   ],
   "source": [
    "import os\n",
    "ax = os.environ[\"TWITTER_ACCS_KEY\"]"
   ]
  },
  {
   "cell_type": "code",
   "execution_count": 221,
   "id": "local-optics",
   "metadata": {},
   "outputs": [],
   "source": [
    "ax"
   ]
  },
  {
   "cell_type": "code",
   "execution_count": null,
   "id": "recorded-granny",
   "metadata": {},
   "outputs": [],
   "source": []
  }
 ],
 "metadata": {
  "kernelspec": {
   "display_name": "Python 3",
   "language": "python",
   "name": "python3"
  },
  "language_info": {
   "codemirror_mode": {
    "name": "ipython",
    "version": 3
   },
   "file_extension": ".py",
   "mimetype": "text/x-python",
   "name": "python",
   "nbconvert_exporter": "python",
   "pygments_lexer": "ipython3",
   "version": "3.8.5"
  }
 },
 "nbformat": 4,
 "nbformat_minor": 5
}
