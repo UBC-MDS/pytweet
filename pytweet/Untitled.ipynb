{
 "cells": [
  {
   "cell_type": "code",
   "execution_count": 137,
   "id": "expensive-calculator",
   "metadata": {},
   "outputs": [],
   "source": [
    "# authors: Huanhuan Li, Yuanzhe(Marco) Ma, Jared Splinter, Yuan Xiong\n",
    "# date: Feb 2021\n",
    "\n",
    "import tweepy\n",
    "import pandas as pd\n",
    "\n",
    "# Twitter API credentials\n",
    "consumer_key = \"rHRh8s2Hz88liZ24zLcrAsHM1\"\n",
    "consumer_secret = \"lyImhGstvGfpMXDMybVgKvssDFOwzLascWqMxzu4KHW3qEAEuk\"\n",
    "access_key = \"1365228567156510721-MXyBlg0GcWiA1Svnr0RQZpzp8S9Gqi\"\n",
    "access_secret = \"qB7fP40OlJHlp35m2vmYx2X4TMqZmn4vuhq34rp99WQRB\"\n",
    "\n",
    "def get_tweets(handle, include_replies=False, n_tweets=-1):\n",
    "    \"\"\"\n",
    "    Retreives all tweets of a user given their Twitter handle\n",
    "    (i.e. @elonmusk) through the Twitter API.\n",
    "\n",
    "    Parameters:\n",
    "    -----------\n",
    "    handle : string\n",
    "        The Twitter handle of the user, or aka the username.\n",
    "    n_tweets : number\n",
    "        The total number of tweets you want to retreive from the user.\n",
    "        By default, n_tweets=-1 means retrieving all tweets. \n",
    "\n",
    "    Returns:\n",
    "    --------\n",
    "    tweets : dataframe\n",
    "        A dataframe of the user's tweets, and the sent times.\n",
    "    \"\"\"\n",
    "    auth = tweepy.OAuthHandler(consumer_key, consumer_secret)\n",
    "    auth.set_access_token(access_key, access_secret)\n",
    "    api = tweepy.API(auth)\n",
    "\n",
    "    tweets = []\n",
    "    latest = api.user_timeline(screen_name=handle, \n",
    "                               exclude_replies=not(include_replies), \n",
    "                               count=200) # max count per request is 200\n",
    "    tweets.extend(latest)\n",
    "    \n",
    "    # start calling recursively to get all tweets\n",
    "    oldest = latest[-1].id\n",
    "    while(len(latest) > 0 and len(tweets) < n_tweets):\n",
    "        latest = api.user_timeline(screen_name=handle, \n",
    "                                   exclude_replies=not(include_replies), \n",
    "                                   count=200, max_id=oldest)\n",
    "        oldest = latest[-1].id\n",
    "        tweets.extend(latest)\n",
    "        \n",
    "        print(f\"{len(tweets)} tweets downloaded\")\n",
    "\n",
    "    # format output dataframe\n",
    "    output = pd.DataFrame([[tweet.id_str, tweet.created_at, tweet.text] for tweet in tweets],\n",
    "                          columns=['ID', 'time', 'tweet'])\n",
    "    if n_tweets != -1:\n",
    "        output = output[:n_tweets]\n",
    "        \n",
    "    return output"
   ]
  },
  {
   "cell_type": "code",
   "execution_count": 146,
   "id": "later-traveler",
   "metadata": {},
   "outputs": [
    {
     "name": "stdout",
     "output_type": "stream",
     "text": [
      "198 tweets downloaded\n",
      "358 tweets downloaded\n",
      "447 tweets downloaded\n",
      "448 tweets downloaded\n",
      "449 tweets downloaded\n",
      "450 tweets downloaded\n",
      "451 tweets downloaded\n",
      "452 tweets downloaded\n",
      "453 tweets downloaded\n",
      "454 tweets downloaded\n",
      "455 tweets downloaded\n",
      "456 tweets downloaded\n",
      "457 tweets downloaded\n",
      "458 tweets downloaded\n",
      "459 tweets downloaded\n",
      "460 tweets downloaded\n",
      "461 tweets downloaded\n",
      "462 tweets downloaded\n",
      "463 tweets downloaded\n",
      "464 tweets downloaded\n",
      "465 tweets downloaded\n",
      "466 tweets downloaded\n",
      "467 tweets downloaded\n",
      "468 tweets downloaded\n",
      "469 tweets downloaded\n",
      "470 tweets downloaded\n",
      "471 tweets downloaded\n",
      "472 tweets downloaded\n",
      "473 tweets downloaded\n",
      "474 tweets downloaded\n",
      "475 tweets downloaded\n",
      "476 tweets downloaded\n",
      "477 tweets downloaded\n",
      "478 tweets downloaded\n",
      "479 tweets downloaded\n",
      "480 tweets downloaded\n",
      "481 tweets downloaded\n",
      "482 tweets downloaded\n",
      "483 tweets downloaded\n",
      "484 tweets downloaded\n",
      "485 tweets downloaded\n",
      "486 tweets downloaded\n",
      "487 tweets downloaded\n",
      "488 tweets downloaded\n",
      "489 tweets downloaded\n",
      "490 tweets downloaded\n",
      "491 tweets downloaded\n",
      "492 tweets downloaded\n",
      "493 tweets downloaded\n",
      "494 tweets downloaded\n",
      "495 tweets downloaded\n",
      "496 tweets downloaded\n",
      "497 tweets downloaded\n",
      "498 tweets downloaded\n",
      "499 tweets downloaded\n",
      "500 tweets downloaded\n"
     ]
    }
   ],
   "source": [
    "a = get_tweets('@jbs', n_tweets=500)"
   ]
  },
  {
   "cell_type": "code",
   "execution_count": 177,
   "id": "covered-southwest",
   "metadata": {},
   "outputs": [
    {
     "data": {
      "text/plain": [
       "int"
      ]
     },
     "execution_count": 177,
     "metadata": {},
     "output_type": "execute_result"
    }
   ],
   "source": [
    "type(1)"
   ]
  },
  {
   "cell_type": "code",
   "execution_count": 184,
   "id": "settled-employee",
   "metadata": {},
   "outputs": [
    {
     "data": {
      "text/plain": [
       "ID               object\n",
       "time     datetime64[ns]\n",
       "tweet            object\n",
       "dtype: object"
      ]
     },
     "execution_count": 184,
     "metadata": {},
     "output_type": "execute_result"
    }
   ],
   "source": [
    "a.dtypes"
   ]
  },
  {
   "cell_type": "code",
   "execution_count": 187,
   "id": "green-antique",
   "metadata": {},
   "outputs": [],
   "source": [
    "x = {}\n",
    "x['a'] = [1, 2, 3]\n",
    "x['b'] = ['a', 'asdfsd', 'zzz']"
   ]
  },
  {
   "cell_type": "code",
   "execution_count": 188,
   "id": "coordinate-lambda",
   "metadata": {},
   "outputs": [],
   "source": [
    "xx = pd.DataFrame(x)\n"
   ]
  },
  {
   "cell_type": "code",
   "execution_count": 206,
   "id": "satellite-factory",
   "metadata": {},
   "outputs": [
    {
     "data": {
      "text/plain": [
       "False"
      ]
     },
     "execution_count": 206,
     "metadata": {},
     "output_type": "execute_result"
    }
   ],
   "source": [
    "a.dtypes['time'] == pd._libs.tslibs.timestamps.Timestamp"
   ]
  },
  {
   "cell_type": "code",
   "execution_count": 207,
   "id": "pursuant-specification",
   "metadata": {},
   "outputs": [
    {
     "data": {
      "text/plain": [
       "pandas.core.series.Series"
      ]
     },
     "execution_count": 207,
     "metadata": {},
     "output_type": "execute_result"
    }
   ],
   "source": [
    "type(a['time'])"
   ]
  },
  {
   "cell_type": "code",
   "execution_count": null,
   "id": "preliminary-colorado",
   "metadata": {},
   "outputs": [],
   "source": []
  }
 ],
 "metadata": {
  "kernelspec": {
   "display_name": "Python 3",
   "language": "python",
   "name": "python3"
  },
  "language_info": {
   "codemirror_mode": {
    "name": "ipython",
    "version": 3
   },
   "file_extension": ".py",
   "mimetype": "text/x-python",
   "name": "python",
   "nbconvert_exporter": "python",
   "pygments_lexer": "ipython3",
   "version": "3.8.5"
  }
 },
 "nbformat": 4,
 "nbformat_minor": 5
}
